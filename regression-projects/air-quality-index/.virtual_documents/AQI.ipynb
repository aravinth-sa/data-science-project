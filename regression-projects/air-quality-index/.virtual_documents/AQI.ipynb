


import os
import time
import requests
import sys





def retrieve_html():
    for year in range(2013,2019):
        for month in range(1,13):
            if month<10:
                url='http://en.tutiempo.net/climate/0{}-{}/ws-421820.html'.format(month
                                                                          ,year)
            else:
                url='http://en.tutiempo.net/climate/{}-{}/ws-421820.html'.format(month
                                                                          ,year)
            source_texts=requests.get(url)
            text=source_texts.text.encode('utf=8')
    
            if not os.path.exists("data/html-data/{}".format(year)):
                os.makedirs("data/html-data/{}".format(year))
            with open("data/html-data/{}/{}.html".format(year,month),"wb") as output:# wb is write mode
                output.write(text)

        sys.stdout.flush()
            
        





#if __name__=="__main__":
   # retrieve_html()

import pandas as pd
import matplotlib.pyplot as plt

def avg_data_year(year):
    temp_i=0
    average=[]
    for rows in pd.read_csv('Data/AQI/aqi{}.csv'.format(year),chunksize=24):
        add_var=0
        avg=0.0
        data=[]
        df=pd.DataFrame(data=rows)
        for index,row in df.iterrows():
            data.append(row['PM2.5'])
        for i in data:
            if type(i) is float or type(i) is int:
                add_var=add_var+i
            elif type(i) is str:
                if i!='NoData' and i!='PwrFail' and i!='---' and i!='InVld':
                    temp=float(i)
                    add_var=add_var+temp
        avg=add_var/24
        temp_i=temp_i+1
        
        average.append(avg)
    return average

if __name__=="__main__":
    for year in range(2013,2018):
        plt.plot(range(0,365),avg_data_year(year),label="{} data".format(year))
        plt.xlabel('Day')
        plt.ylabel('PM 2.5')
        plt.legend(loc='upper right')
        plt.show()
    
    



